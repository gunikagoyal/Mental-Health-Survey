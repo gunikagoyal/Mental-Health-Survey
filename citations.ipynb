{
  "nbformat": 4,
  "nbformat_minor": 0,
  "metadata": {
    "colab": {
      "provenance": [],
      "authorship_tag": "ABX9TyMBq8Sqf1guXKbJUPT4kUnf"
    },
    "kernelspec": {
      "name": "python3",
      "display_name": "Python 3"
    },
    "language_info": {
      "name": "python"
    }
  },
  "cells": [
    {
      "cell_type": "code",
      "execution_count": 1,
      "metadata": {
        "colab": {
          "base_uri": "https://localhost:8080/"
        },
        "id": "aubb7gFVwomJ",
        "outputId": "3ef598e3-f897-4e9c-aec8-516ea91d1992"
      },
      "outputs": [
        {
          "output_type": "stream",
          "name": "stdout",
          "text": [
            "Requirement already satisfied: requests in /usr/local/lib/python3.10/dist-packages (2.31.0)\n",
            "Requirement already satisfied: charset-normalizer<4,>=2 in /usr/local/lib/python3.10/dist-packages (from requests) (3.3.2)\n",
            "Requirement already satisfied: idna<4,>=2.5 in /usr/local/lib/python3.10/dist-packages (from requests) (3.7)\n",
            "Requirement already satisfied: urllib3<3,>=1.21.1 in /usr/local/lib/python3.10/dist-packages (from requests) (2.0.7)\n",
            "Requirement already satisfied: certifi>=2017.4.17 in /usr/local/lib/python3.10/dist-packages (from requests) (2024.2.2)\n"
          ]
        }
      ],
      "source": [
        "pip install requests"
      ]
    },
    {
      "cell_type": "code",
      "source": [
        "import csv\n",
        "import requests\n",
        "\n",
        "def fetch_citation_count(doi):\n",
        "    url = f\"https://api.crossref.org/works/{doi}\"\n",
        "    response = requests.get(url)\n",
        "    if response.status_code == 200:\n",
        "        data = response.json()\n",
        "        return data['message'].get('is-referenced-by-count', 0)\n",
        "    else:\n",
        "        return None\n",
        "\n",
        "def add_citation_counts_to_papers(input_filename, output_filename):\n",
        "    papers = []\n",
        "\n",
        "    # Read the papers from the CSV file\n",
        "    with open(input_filename, 'r', encoding='utf-8') as file:\n",
        "        reader = csv.DictReader(file)\n",
        "        total_papers = sum(1 for row in reader)  # Count total number of papers\n",
        "        file.seek(0)  # Reset file pointer\n",
        "        for row in reader:\n",
        "            papers.append(row)\n",
        "\n",
        "    # Fetch citation count for each paper and add it to the paper data\n",
        "    for index, paper in enumerate(papers, start=1):\n",
        "        doi = paper['DOI']\n",
        "        citation_count = fetch_citation_count(doi)\n",
        "        paper['CitationCount'] = citation_count\n",
        "\n",
        "    # Write the updated papers with citation counts to a new CSV file\n",
        "    with open(output_filename, 'w', newline='', encoding='utf-8') as file:\n",
        "        fieldnames = [\"Title\", \"Year\", \"DOI\", \"CitationCount\"]\n",
        "        writer = csv.DictWriter(file, fieldnames=fieldnames)\n",
        "        writer.writeheader()\n",
        "        for paper in papers:\n",
        "            writer.writerow(paper)\n",
        "\n",
        "input_filename = 'mental_health_papers.csv'\n",
        "output_filename = 'mental_health_papers_with_citations.csv'\n",
        "add_citation_counts_to_papers(input_filename, output_filename)\n",
        "\n",
        "print(f\"Papers with citation counts saved to '{output_filename}'\")\n"
      ],
      "metadata": {
        "colab": {
          "base_uri": "https://localhost:8080/"
        },
        "id": "3epQFANHz7Q7",
        "outputId": "2b51b16c-e0d8-4c0d-d8ea-9589336423ac"
      },
      "execution_count": 15,
      "outputs": [
        {
          "output_type": "stream",
          "name": "stdout",
          "text": [
            "Papers with citation counts saved to 'mental_health_papers_with_citations.csv'\n"
          ]
        }
      ]
    },
    {
      "cell_type": "code",
      "source": [
        "pip install matplotlib"
      ],
      "metadata": {
        "id": "lDN4eYzbuPGb",
        "outputId": "26d215cf-7d2d-4821-ffd6-467168a818a6",
        "colab": {
          "base_uri": "https://localhost:8080/"
        }
      },
      "execution_count": 7,
      "outputs": [
        {
          "output_type": "stream",
          "name": "stdout",
          "text": [
            "Requirement already satisfied: matplotlib in /usr/local/lib/python3.10/dist-packages (3.7.1)\n",
            "Requirement already satisfied: contourpy>=1.0.1 in /usr/local/lib/python3.10/dist-packages (from matplotlib) (1.2.1)\n",
            "Requirement already satisfied: cycler>=0.10 in /usr/local/lib/python3.10/dist-packages (from matplotlib) (0.12.1)\n",
            "Requirement already satisfied: fonttools>=4.22.0 in /usr/local/lib/python3.10/dist-packages (from matplotlib) (4.51.0)\n",
            "Requirement already satisfied: kiwisolver>=1.0.1 in /usr/local/lib/python3.10/dist-packages (from matplotlib) (1.4.5)\n",
            "Requirement already satisfied: numpy>=1.20 in /usr/local/lib/python3.10/dist-packages (from matplotlib) (1.25.2)\n",
            "Requirement already satisfied: packaging>=20.0 in /usr/local/lib/python3.10/dist-packages (from matplotlib) (24.0)\n",
            "Requirement already satisfied: pillow>=6.2.0 in /usr/local/lib/python3.10/dist-packages (from matplotlib) (9.4.0)\n",
            "Requirement already satisfied: pyparsing>=2.3.1 in /usr/local/lib/python3.10/dist-packages (from matplotlib) (3.1.2)\n",
            "Requirement already satisfied: python-dateutil>=2.7 in /usr/local/lib/python3.10/dist-packages (from matplotlib) (2.8.2)\n",
            "Requirement already satisfied: six>=1.5 in /usr/local/lib/python3.10/dist-packages (from python-dateutil>=2.7->matplotlib) (1.16.0)\n"
          ]
        }
      ]
    },
    {
      "cell_type": "code",
      "source": [
        "import csv\n",
        "import matplotlib.pyplot as plt\n",
        "\n",
        "def filter_and_sort_papers(input_filename, output_filename):\n",
        "    filtered_papers = []\n",
        "\n",
        "    # Read the papers from the CSV file\n",
        "    with open(input_filename, 'r', encoding='utf-8') as file:\n",
        "        reader = csv.DictReader(file)\n",
        "        for row in reader:\n",
        "            citation_count = row['CitationCount']\n",
        "            if citation_count and citation_count.isdigit() and int(citation_count) > 20:\n",
        "                filtered_papers.append(row)\n",
        "\n",
        "    # Sort papers by citation count in descending order\n",
        "    filtered_papers.sort(key=lambda x: int(x['CitationCount']), reverse=True)\n",
        "\n",
        "    # Write the filtered and sorted papers to a new CSV file\n",
        "    with open(output_filename, 'w', newline='', encoding='utf-8') as file:\n",
        "        fieldnames = [\"Title\", \"Year\", \"DOI\", \"CitationCount\"]\n",
        "        writer = csv.DictWriter(file, fieldnames=fieldnames)\n",
        "        writer.writeheader()\n",
        "        for paper in filtered_papers:\n",
        "            writer.writerow(paper)\n",
        "\n",
        "    return filtered_papers\n",
        "\n",
        "def plot_citation_distribution(papers):\n",
        "    citation_counts = [int(paper['CitationCount']) for paper in papers]\n",
        "\n",
        "    plt.figure(figsize=(10, 6))\n",
        "    plt.hist(citation_counts, bins=20, edgecolor='black')\n",
        "    plt.title('Citation Distribution')\n",
        "    plt.xlabel('Number of Citations')\n",
        "    plt.ylabel('Number of Papers')\n",
        "    plt.grid(True)\n",
        "    plt.show()\n",
        "\n",
        "input_filename = 'mental_health_papers_with_citations.csv'\n",
        "output_filename = 'filtered_sorted_mental_health_papers.csv'\n",
        "filtered_papers = filter_and_sort_papers(input_filename, output_filename)\n",
        "\n",
        "print(f\"Filtered and sorted papers saved to '{output_filename}'\")\n",
        "\n",
        "plot_citation_distribution(filtered_papers)\n"
      ],
      "metadata": {
        "id": "GVlnGra6uqIo",
        "outputId": "36cb3088-9257-4494-9aa1-e300519d33dc",
        "colab": {
          "base_uri": "https://localhost:8080/",
          "height": 581
        }
      },
      "execution_count": 12,
      "outputs": [
        {
          "output_type": "stream",
          "name": "stdout",
          "text": [
            "Filtered and sorted papers saved to 'filtered_sorted_mental_health_papers.csv'\n"
          ]
        },
        {
          "output_type": "display_data",
          "data": {
            "text/plain": [
              "<Figure size 1000x600 with 1 Axes>"
            ],
            "image/png": "[encoded data removed]"
          },
          "metadata": {}
        }
      ]
    }
  ]
}