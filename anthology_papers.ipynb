{
  "nbformat": 4,
  "nbformat_minor": 0,
  "metadata": {
    "colab": {
      "provenance": [],
      "authorship_tag": "ABX9TyMPyashbdpUr+xz8rJykLib"
    },
    "kernelspec": {
      "name": "python3",
      "display_name": "Python 3"
    },
    "language_info": {
      "name": "python"
    },
    "widgets": {
      "application/vnd.jupyter.widget-state+json": {
        "bddfbbf1ee23481d93a292ab4bb6ab4c": {
          "model_module": "@jupyter-widgets/output",
          "model_name": "OutputModel",
          "model_module_version": "1.0.0",
          "state": {
            "_dom_classes": [],
            "_model_module": "@jupyter-widgets/output",
            "_model_module_version": "1.0.0",
            "_model_name": "OutputModel",
            "_view_count": null,
            "_view_module": "@jupyter-widgets/output",
            "_view_module_version": "1.0.0",
            "_view_name": "OutputView",
            "layout": "IPY_MODEL_84a26d7d44a74fc783902557e05fcf30",
            "msg_id": "",
            "outputs": [
              {
                "output_type": "display_data",
                "data": {
                  "text/plain": "Fetching Anthology data... \u001b[38;2;249;38;114m━━━━━━━━━━━━━━━━━━━━━━━━━━━━━━━━━━━━━━━\u001b[0m\u001b[38;2;249;38;114m╸\u001b[0m \u001b[35m100%\u001b[0m \u001b[36m0:00:01\u001b[0m\n",
                  "text/html": "<pre style=\"white-space:pre;overflow-x:auto;line-height:normal;font-family:Menlo,'DejaVu Sans Mono',consolas,'Courier New',monospace\">Fetching Anthology data... <span style=\"color: #f92672; text-decoration-color: #f92672\">━━━━━━━━━━━━━━━━━━━━━━━━━━━━━━━━━━━━━━━╸</span> <span style=\"color: #800080; text-decoration-color: #800080\">100%</span> <span style=\"color: #008080; text-decoration-color: #008080\">0:00:01</span>\n</pre>\n"
                },
                "metadata": {}
              }
            ]
          }
        },
        "84a26d7d44a74fc783902557e05fcf30": {
          "model_module": "@jupyter-widgets/base",
          "model_name": "LayoutModel",
          "model_module_version": "1.2.0",
          "state": {
            "_model_module": "@jupyter-widgets/base",
            "_model_module_version": "1.2.0",
            "_model_name": "LayoutModel",
            "_view_count": null,
            "_view_module": "@jupyter-widgets/base",
            "_view_module_version": "1.2.0",
            "_view_name": "LayoutView",
            "align_content": null,
            "align_items": null,
            "align_self": null,
            "border": null,
            "bottom": null,
            "display": null,
            "flex": null,
            "flex_flow": null,
            "grid_area": null,
            "grid_auto_columns": null,
            "grid_auto_flow": null,
            "grid_auto_rows": null,
            "grid_column": null,
            "grid_gap": null,
            "grid_row": null,
            "grid_template_areas": null,
            "grid_template_columns": null,
            "grid_template_rows": null,
            "height": null,
            "justify_content": null,
            "justify_items": null,
            "left": null,
            "margin": null,
            "max_height": null,
            "max_width": null,
            "min_height": null,
            "min_width": null,
            "object_fit": null,
            "object_position": null,
            "order": null,
            "overflow": null,
            "overflow_x": null,
            "overflow_y": null,
            "padding": null,
            "right": null,
            "top": null,
            "visibility": null,
            "width": null
          }
        }
      }
    }
  },
  "cells": [
    {
      "cell_type": "code",
      "execution_count": 1,
      "metadata": {
        "colab": {
          "base_uri": "https://localhost:8080/"
        },
        "id": "KmFny3gYixis",
        "outputId": "88fcec68-9d52-455a-ffa8-af5f8e4159b9"
      },
      "outputs": [
        {
          "output_type": "stream",
          "name": "stdout",
          "text": [
            "Requirement already satisfied: acl-anthology-py in /usr/local/lib/python3.10/dist-packages (0.4.3)\n",
            "Requirement already satisfied: PyYAML<7.0,>=6.0 in /usr/local/lib/python3.10/dist-packages (from acl-anthology-py) (6.0.1)\n",
            "Requirement already satisfied: app-paths<0.0.8,>=0.0.7 in /usr/local/lib/python3.10/dist-packages (from acl-anthology-py) (0.0.7)\n",
            "Requirement already satisfied: attrs<24.0.0,>=23.1.0 in /usr/local/lib/python3.10/dist-packages (from acl-anthology-py) (23.2.0)\n",
            "Requirement already satisfied: diskcache<6.0.0,>=5.6.1 in /usr/local/lib/python3.10/dist-packages (from acl-anthology-py) (5.6.3)\n",
            "Requirement already satisfied: docopt<0.7.0,>=0.6.2 in /usr/local/lib/python3.10/dist-packages (from acl-anthology-py) (0.6.2)\n",
            "Requirement already satisfied: gitpython<4.0.0,>=3.1.37 in /usr/local/lib/python3.10/dist-packages (from acl-anthology-py) (3.1.43)\n",
            "Requirement already satisfied: latexcodec<3.0.0,>=2.0.1 in /usr/local/lib/python3.10/dist-packages (from acl-anthology-py) (2.0.1)\n",
            "Requirement already satisfied: lxml<5.0.0,>=4.9.2 in /usr/local/lib/python3.10/dist-packages (from acl-anthology-py) (4.9.4)\n",
            "Requirement already satisfied: numpy<2.0.0,>=1.26.0 in /usr/local/lib/python3.10/dist-packages (from acl-anthology-py) (1.26.4)\n",
            "Requirement already satisfied: omegaconf<3.0.0,>=2.3.0 in /usr/local/lib/python3.10/dist-packages (from acl-anthology-py) (2.3.0)\n",
            "Requirement already satisfied: platformdirs<4.0.0,>=3.11.0 in /usr/local/lib/python3.10/dist-packages (from acl-anthology-py) (3.11.0)\n",
            "Requirement already satisfied: python-slugify[unidecode]<9.0.0,>=8.0.1 in /usr/local/lib/python3.10/dist-packages (from acl-anthology-py) (8.0.4)\n",
            "Requirement already satisfied: rich<14.0.0,>=13.3.5 in /usr/local/lib/python3.10/dist-packages (from acl-anthology-py) (13.7.1)\n",
            "Requirement already satisfied: rnc2rng<3.0.0,>=2.6.6 in /usr/local/lib/python3.10/dist-packages (from acl-anthology-py) (2.7.0)\n",
            "Requirement already satisfied: scipy<2.0.0,>=1.6.0 in /usr/local/lib/python3.10/dist-packages (from acl-anthology-py) (1.11.4)\n",
            "Requirement already satisfied: texsoup<0.4.0,>=0.3.1 in /usr/local/lib/python3.10/dist-packages (from acl-anthology-py) (0.3.1)\n",
            "Requirement already satisfied: typing-extensions<5.0.0,>=4.6.0 in /usr/local/lib/python3.10/dist-packages (from acl-anthology-py) (4.11.0)\n",
            "Requirement already satisfied: unpackable<0.1.0,>=0.0.4 in /usr/local/lib/python3.10/dist-packages (from app-paths<0.0.8,>=0.0.7->acl-anthology-py) (0.0.4)\n",
            "Requirement already satisfied: appdirs in /usr/local/lib/python3.10/dist-packages (from app-paths<0.0.8,>=0.0.7->acl-anthology-py) (1.4.4)\n",
            "Requirement already satisfied: asyncstdlib<4.0.0,>=3.9.2 in /usr/local/lib/python3.10/dist-packages (from app-paths<0.0.8,>=0.0.7->acl-anthology-py) (3.12.3)\n",
            "Requirement already satisfied: StrEnum>=0.4.6 in /usr/local/lib/python3.10/dist-packages (from app-paths<0.0.8,>=0.0.7->acl-anthology-py) (0.4.15)\n",
            "Requirement already satisfied: aiopath>=0.6.9 in /usr/local/lib/python3.10/dist-packages (from app-paths<0.0.8,>=0.0.7->acl-anthology-py) (0.6.11)\n",
            "Requirement already satisfied: gitdb<5,>=4.0.1 in /usr/local/lib/python3.10/dist-packages (from gitpython<4.0.0,>=3.1.37->acl-anthology-py) (4.0.11)\n",
            "Requirement already satisfied: six>=1.4.1 in /usr/local/lib/python3.10/dist-packages (from latexcodec<3.0.0,>=2.0.1->acl-anthology-py) (1.16.0)\n",
            "Requirement already satisfied: antlr4-python3-runtime==4.9.* in /usr/local/lib/python3.10/dist-packages (from omegaconf<3.0.0,>=2.3.0->acl-anthology-py) (4.9.3)\n",
            "Requirement already satisfied: text-unidecode>=1.3 in /usr/local/lib/python3.10/dist-packages (from python-slugify[unidecode]<9.0.0,>=8.0.1->acl-anthology-py) (1.3)\n",
            "Requirement already satisfied: Unidecode>=1.1.1 in /usr/local/lib/python3.10/dist-packages (from python-slugify[unidecode]<9.0.0,>=8.0.1->acl-anthology-py) (1.3.8)\n",
            "Requirement already satisfied: markdown-it-py>=2.2.0 in /usr/local/lib/python3.10/dist-packages (from rich<14.0.0,>=13.3.5->acl-anthology-py) (3.0.0)\n",
            "Requirement already satisfied: pygments<3.0.0,>=2.13.0 in /usr/local/lib/python3.10/dist-packages (from rich<14.0.0,>=13.3.5->acl-anthology-py) (2.16.1)\n",
            "Requirement already satisfied: rply in /usr/local/lib/python3.10/dist-packages (from rnc2rng<3.0.0,>=2.6.6->acl-anthology-py) (0.7.8)\n",
            "Requirement already satisfied: aiofile<4,>=3.5.0 in /usr/local/lib/python3.10/dist-packages (from aiopath>=0.6.9->app-paths<0.0.8,>=0.0.7->acl-anthology-py) (3.8.8)\n",
            "Requirement already satisfied: anyio<4,>=3.2.0 in /usr/local/lib/python3.10/dist-packages (from aiopath>=0.6.9->app-paths<0.0.8,>=0.0.7->acl-anthology-py) (3.7.1)\n",
            "Requirement already satisfied: smmap<6,>=3.0.1 in /usr/local/lib/python3.10/dist-packages (from gitdb<5,>=4.0.1->gitpython<4.0.0,>=3.1.37->acl-anthology-py) (5.0.1)\n",
            "Requirement already satisfied: mdurl~=0.1 in /usr/local/lib/python3.10/dist-packages (from markdown-it-py>=2.2.0->rich<14.0.0,>=13.3.5->acl-anthology-py) (0.1.2)\n",
            "Requirement already satisfied: caio~=0.9.0 in /usr/local/lib/python3.10/dist-packages (from aiofile<4,>=3.5.0->aiopath>=0.6.9->app-paths<0.0.8,>=0.0.7->acl-anthology-py) (0.9.13)\n",
            "Requirement already satisfied: idna>=2.8 in /usr/local/lib/python3.10/dist-packages (from anyio<4,>=3.2.0->aiopath>=0.6.9->app-paths<0.0.8,>=0.0.7->acl-anthology-py) (3.7)\n",
            "Requirement already satisfied: sniffio>=1.1 in /usr/local/lib/python3.10/dist-packages (from anyio<4,>=3.2.0->aiopath>=0.6.9->app-paths<0.0.8,>=0.0.7->acl-anthology-py) (1.3.1)\n",
            "Requirement already satisfied: exceptiongroup in /usr/local/lib/python3.10/dist-packages (from anyio<4,>=3.2.0->aiopath>=0.6.9->app-paths<0.0.8,>=0.0.7->acl-anthology-py) (1.2.1)\n"
          ]
        }
      ],
      "source": [
        "pip install acl-anthology-py"
      ]
    },
    {
      "cell_type": "code",
      "source": [
        "from acl_anthology import Anthology\n",
        "anthology = Anthology.from_repo()"
      ],
      "metadata": {
        "colab": {
          "base_uri": "https://localhost:8080/",
          "height": 33,
          "referenced_widgets": [
            "bddfbbf1ee23481d93a292ab4bb6ab4c",
            "84a26d7d44a74fc783902557e05fcf30"
          ]
        },
        "id": "iOZVB2p6i1IE",
        "outputId": "90f720ec-9409-43ff-c02a-99fcb53bce7e"
      },
      "execution_count": 2,
      "outputs": [
        {
          "output_type": "display_data",
          "data": {
            "text/plain": [
              "Output()"
            ],
            "application/vnd.jupyter.widget-view+json": {
              "version_major": 2,
              "version_minor": 0,
              "model_id": "bddfbbf1ee23481d93a292ab4bb6ab4c"
            }
          },
          "metadata": {}
        },
        {
          "output_type": "display_data",
          "data": {
            "text/plain": [],
            "text/html": [
              "<pre style=\"white-space:pre;overflow-x:auto;line-height:normal;font-family:Menlo,'DejaVu Sans Mono',consolas,'Courier New',monospace\"></pre>\n"
            ]
          },
          "metadata": {}
        },
        {
          "output_type": "display_data",
          "data": {
            "text/plain": [
              "\n"
            ],
            "text/html": [
              "<pre style=\"white-space:pre;overflow-x:auto;line-height:normal;font-family:Menlo,'DejaVu Sans Mono',consolas,'Courier New',monospace\">\n",
              "</pre>\n"
            ]
          },
          "metadata": {}
        },
        {
          "output_type": "display_data",
          "data": {
            "text/plain": [
              "\n"
            ],
            "text/html": [
              "<pre style=\"white-space:pre;overflow-x:auto;line-height:normal;font-family:Menlo,'DejaVu Sans Mono',consolas,'Courier New',monospace\">\n",
              "</pre>\n"
            ]
          },
          "metadata": {}
        }
      ]
    },
    {
      "cell_type": "markdown",
      "source": [
        "**Papers from ACL, EMLP, EACL Conferences**"
      ],
      "metadata": {
        "id": "VmKCHN7sx69J"
      }
    },
    {
      "cell_type": "code",
      "source": [
        "def get_papers_with_keywords(year_range, keywords, output_file):\n",
        "    papers = []\n",
        "    paper_count = 0\n",
        "\n",
        "    for year in range(year_range[0], year_range[1] + 1):\n",
        "        for collection_type in [\"acl\", \"emnlp\", \"eacl\"]:\n",
        "            #Get the collection for the specific year and collection type\n",
        "            collection = anthology.get(f\"{year}.{collection_type}\")\n",
        "            if collection:\n",
        "\n",
        "                #Iterate over volumes in the collection\n",
        "                for volume in collection.volumes():\n",
        "\n",
        "                    #Iterate over papers in the volume\n",
        "                    for paper in volume.papers():\n",
        "\n",
        "                        #Increment the counter\n",
        "                        paper_count += 1\n",
        "\n",
        "                        #Check if any of the keywords are in the paper title\n",
        "                        if any(keyword.lower() in str(paper.title).lower() for keyword in keywords):\n",
        "                            papers.append({\"title\": paper.title, \"year\": year, \"anthology_id\": paper.full_id})\n",
        "\n",
        "    #Print the total number of papers iterated through\n",
        "    print(f\"Total number of papers iterated through: {paper_count}\")\n",
        "\n",
        "    #Write results to a text file\n",
        "    with open(output_file, \"a\") as file:\n",
        "        for paper in papers:\n",
        "            file.write(f\"Title: {paper['title']}\\n\")\n",
        "            file.write(f\"Year: {paper['year']}\\n\")\n",
        "            file.write(\"\\n\")\n",
        "\n",
        "#Range of years and keywords\n",
        "year_range = (2020, 2023)\n",
        "keywords = [\"suicide\", \"stress\", \"depression\", \"anxiety\", \"Panic\", \"mental health\", \"Self-care\"]\n",
        "\n",
        "#Output file path\n",
        "output_file = \"acl_emnlp_eacl.txt\"\n",
        "\n",
        "#Call the function\n",
        "get_papers_with_keywords(year_range, keywords, output_file)\n"
      ],
      "metadata": {
        "colab": {
          "base_uri": "https://localhost:8080/"
        },
        "id": "JpcNsTcCi50Q",
        "outputId": "82950852-435a-4b1e-e148-e290222b6a68"
      },
      "execution_count": 33,
      "outputs": [
        {
          "output_type": "stream",
          "name": "stdout",
          "text": [
            "Total number of papers iterated through: 8267\n"
          ]
        }
      ]
    },
    {
      "cell_type": "markdown",
      "source": [
        "**All papers in Anthology**"
      ],
      "metadata": {
        "id": "QisGMW7ZyFlX"
      }
    },
    {
      "cell_type": "code",
      "source": [
        "def save_papers_to_file(papers, filename):\n",
        "    with open(filename, 'w', encoding='utf-8') as file:\n",
        "        for paper in papers:\n",
        "            file.write(f\"Title: {paper['title']}\\n\")\n",
        "            file.write(f\"Year: {paper['year']}\\n\\n\")\n",
        "\n",
        "def get_papers_with_keywords(keywords):\n",
        "    papers = []\n",
        "    paper_count = 0\n",
        "    paper_cnt=0\n",
        "\n",
        "    #Iterate over all papers in the Anthology\n",
        "    for paper in anthology.papers():\n",
        "\n",
        "        #Convert the paper's year to an integer\n",
        "        paper_year = int(paper.year)\n",
        "\n",
        "        #Check if the paper's year is between 2018 and 2023\n",
        "        if 2018 <= paper_year <= 2023:\n",
        "\n",
        "            #Check if any of the keywords are in the paper title\n",
        "            paper_count += 1\n",
        "            if any(keyword.lower() in str(paper.title).lower() for keyword in keywords):\n",
        "                paper_cnt += 1\n",
        "                papers.append({\"title\": paper.title, \"year\": paper_year})\n",
        "    print(f\"Total number of papers extracted: {paper_cnt}\")\n",
        "    print(f\"Total number of papers iterated through: {paper_count}\")\n",
        "    return papers\n",
        "\n",
        "#Define the list of keywords\n",
        "keywords = [\"suicide\", \"stress\", \"depression\", \"anxiety\", \"Panic\", \"mental health\", \"Self-care\"]\n",
        "\n",
        "#Get papers with keywords\n",
        "papers = get_papers_with_keywords(keywords)\n",
        "\n",
        "filename = \"mental_health_papers.txt\"\n",
        "save_papers_to_file(papers, filename)\n",
        "\n",
        "print(f\"Papers with keywords saved to '{filename}'\")"
      ],
      "metadata": {
        "colab": {
          "base_uri": "https://localhost:8080/"
        },
        "id": "VCn-mhVBsaaB",
        "outputId": "2719cbe3-1897-4cad-a517-06512c917182"
      },
      "execution_count": 34,
      "outputs": [
        {
          "output_type": "stream",
          "name": "stdout",
          "text": [
            "Total number of papers extracted: 217\n",
            "Total number of papers iterated through: 41321\n",
            "Papers with keywords saved to 'mental_health_papers.txt'\n"
          ]
        }
      ]
    }
  ]
}